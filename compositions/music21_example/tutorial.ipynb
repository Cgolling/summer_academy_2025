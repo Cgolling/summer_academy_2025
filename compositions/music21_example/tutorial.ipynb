{
 "cells": [
  {
   "cell_type": "code",
   "id": "initial_id",
   "metadata": {
    "collapsed": true,
    "ExecuteTime": {
     "end_time": "2025-08-19T23:43:50.665176Z",
     "start_time": "2025-08-19T23:43:50.290870Z"
    }
   },
   "source": [
    "from music21 import *\n",
    "\n",
    "# Define the key, tempo, and time signature\n",
    "key = key.Key('C')\n",
    "tempo = tempo.MetronomeMark(number=120)\n",
    "ts = meter.TimeSignature('4/4')"
   ],
   "outputs": [],
   "execution_count": 1
  },
  {
   "metadata": {
    "ExecuteTime": {
     "end_time": "2025-08-19T23:43:50.669543Z",
     "start_time": "2025-08-19T23:43:50.666515Z"
    }
   },
   "cell_type": "code",
   "source": [
    "main_stream = stream.Score()\n",
    "melody_stream = stream.Part()\n",
    "# Set the instrument for the melody\n",
    "melody_stream.insert(0, instrument.Piano())"
   ],
   "id": "993b0f171e7bc1d0",
   "outputs": [],
   "execution_count": 2
  },
  {
   "metadata": {
    "ExecuteTime": {
     "end_time": "2025-08-19T23:43:50.675050Z",
     "start_time": "2025-08-19T23:43:50.670637Z"
    }
   },
   "cell_type": "code",
   "source": [
    "# Define the notes for our melody\n",
    "melody_notes = [note.Note(\"C4\", quarterLength=1.0, volume=0.7),\n",
    "                note.Note(\"D4\", quarterLength=1.0, volume=0.7),\n",
    "                note.Note(\"E4\", quarterLength=1.0, volume=0.7),\n",
    "                note.Note(\"C4\", quarterLength=1.0, volume=0.7),\n",
    "                note.Note(\"C4\", quarterLength=0.5, volume=0.7),\n",
    "                note.Note(\"C4\", quarterLength=0.5, volume=0.7),\n",
    "                note.Note(\"D4\", quarterLength=1.0, volume=0.7),\n",
    "                note.Note(\"E4\", quarterLength=1.0, volume=0.7),\n",
    "                note.Note(\"C4\", quarterLength=1.0, volume=0.7),\n",
    "                note.Note(\"E4\", quarterLength=1.0, volume=0.7),\n",
    "                note.Note(\"F4\", quarterLength=1.0, volume=0.7),\n",
    "                note.Note(\"G4\", quarterLength=1.0, volume=0.7),\n",
    "                note.Note(\"C4\", quarterLength=1.0, volume=0.7),\n",
    "                note.Note(\"C5\", quarterLength=1.0, volume=0.7),\n",
    "                note.Note(\"G5\", quarterLength=1.0, volume=0.7),\n",
    "                note.Note(\"G4\", quarterLength=1.0, volume=0.7)]\n",
    "\n",
    "# Add the notes to the stream\n",
    "melody_stream.append([note for note in melody_notes])"
   ],
   "id": "e4a85a64ef0c8edc",
   "outputs": [],
   "execution_count": 3
  },
  {
   "metadata": {
    "ExecuteTime": {
     "end_time": "2025-08-19T23:43:51.593705Z",
     "start_time": "2025-08-19T23:43:50.676103Z"
    }
   },
   "cell_type": "code",
   "source": [
    "main_stream.insert(0, key)\n",
    "main_stream.insert(0, tempo)\n",
    "main_stream.insert(0, ts)\n",
    "# Add the melody stream to the main stream\n",
    "main_stream.append(melody_stream)\n",
    "# Show the music notation\n",
    "main_stream.show()"
   ],
   "id": "41c19d58ae2df9f8",
   "outputs": [
    {
     "data": {
      "image/png": "[encoded data removed]",
      "text/plain": [
       "<IPython.core.display.Image object>"
      ]
     },
     "metadata": {
      "image/png": {
       "width": 674,
       "height": 49
      }
     },
     "output_type": "display_data"
    }
   ],
   "execution_count": 4
  },
  {
   "metadata": {
    "ExecuteTime": {
     "end_time": "2025-08-19T23:43:51.604665Z",
     "start_time": "2025-08-19T23:43:51.595402Z"
    }
   },
   "cell_type": "code",
   "source": [
    "# Save the score to a MIDI file\n",
    "main_stream.write('midi', fp='melody.mid')"
   ],
   "id": "15d8418a563bd745",
   "outputs": [
    {
     "data": {
      "text/plain": [
       "'melody.mid'"
      ]
     },
     "execution_count": 5,
     "metadata": {},
     "output_type": "execute_result"
    }
   ],
   "execution_count": 5
  },
  {
   "metadata": {},
   "cell_type": "markdown",
   "source": "For more information on how to use music21, you can refer to the [music21 documentation](https://www.music21.org/music21docs/index.html).",
   "id": "240ad15166776e28"
  }
 ],
 "metadata": {
  "kernelspec": {
   "display_name": "Python 3",
   "language": "python",
   "name": "python3"
  },
  "language_info": {
   "codemirror_mode": {
    "name": "ipython",
    "version": 2
   },
   "file_extension": ".py",
   "mimetype": "text/x-python",
   "name": "python",
   "nbconvert_exporter": "python",
   "pygments_lexer": "ipython2",
   "version": "2.7.6"
  }
 },
 "nbformat": 4,
 "nbformat_minor": 5
}
